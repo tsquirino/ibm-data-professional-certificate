{
  "metadata": {
    "kernelspec": {
      "name": "python",
      "display_name": "Python (Pyodide)",
      "language": "python"
    },
    "language_info": {
      "codemirror_mode": {
        "name": "python",
        "version": 3
      },
      "file_extension": ".py",
      "mimetype": "text/x-python",
      "name": "python",
      "nbconvert_exporter": "python",
      "pygments_lexer": "ipython3",
      "version": "3.8"
    }
  },
  "nbformat_minor": 5,
  "nbformat": 4,
  "cells": [
    {
      "id": "700ce2f5-02f8-4cdd-a678-5e29293cee41",
      "cell_type": "markdown",
      "source": "# Data Science Tools and Ecosystem",
      "metadata": {}
    },
    {
      "id": "277dc492-1095-462f-8c73-b766825051ac",
      "cell_type": "markdown",
      "source": "In this notebook, Data Science Tools and Ecosystem are summarized.",
      "metadata": {}
    },
    {
      "id": "8abe5387-a76c-4c0b-9fdd-b508141c24cf",
      "cell_type": "markdown",
      "source": "**Objectives:**\n- List popular languages for Data Science\n- List commonly used libraries used by Data Scientists\n- List open source tools used in Data Science\n- Give examples of arithmetic expressions evaluated using the Python language",
      "metadata": {}
    },
    {
      "id": "c231b41f-c790-4c3d-84d1-de829fe5ed66",
      "cell_type": "markdown",
      "source": "Some of the popular languages that Data Scientists use are:\n1. Python\n2. R\n3. SQL",
      "metadata": {}
    },
    {
      "id": "1e09bab0-019b-46bd-9eae-356831cd7a38",
      "cell_type": "markdown",
      "source": "Some of the commonly used libraries used by Data Scientists include:\n1. pandas\n2. scikit-learn\n3. matplotlib",
      "metadata": {}
    },
    {
      "id": "243b7910-b3b1-41b6-b2e7-43430b801527",
      "cell_type": "markdown",
      "source": "|Data Science Tools|\n|---|\n|PostgreSQL|\n|Kubernetes|\n|Git|",
      "metadata": {}
    },
    {
      "id": "e2856c2e-f962-4960-aa09-0ded071ba5b7",
      "cell_type": "markdown",
      "source": "### Below are a few examples of evaluating arithmetic expressions in Python",
      "metadata": {}
    },
    {
      "id": "8099a2d7-f7d6-4117-9848-85445cd826e6",
      "cell_type": "code",
      "source": "# This a simple arithmetic expression to mutiply then add integers\n(3*4)+5",
      "metadata": {
        "trusted": true
      },
      "outputs": [
        {
          "execution_count": 5,
          "output_type": "execute_result",
          "data": {
            "text/plain": "17"
          },
          "metadata": {}
        }
      ],
      "execution_count": 5
    },
    {
      "id": "a5c80418-e044-42da-b01e-31c5edd1eaff",
      "cell_type": "code",
      "source": "# This will convert 200 minutes to hours by diving by 60\nminutes = 200\nhours = minutes / 60\nhours",
      "metadata": {
        "trusted": true
      },
      "outputs": [
        {
          "execution_count": 7,
          "output_type": "execute_result",
          "data": {
            "text/plain": "3.3333333333333335"
          },
          "metadata": {}
        }
      ],
      "execution_count": 7
    },
    {
      "id": "176f9645-caf0-417c-a52b-f0e8d5a3b20b",
      "cell_type": "markdown",
      "source": "## Author\nTomás Suguinoshita Quirino",
      "metadata": {}
    }
  ]
}